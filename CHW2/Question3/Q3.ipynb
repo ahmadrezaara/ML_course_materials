{
 "cells": [
  {
   "cell_type": "markdown",
   "id": "5f42a3ce",
   "metadata": {},
   "source": [
    "<h1 align=\"center\">Introduction to Machine Learning - 25737-2</h1>\n",
    "<h4 align=\"center\">Dr. R. Amiri</h4>\n",
    "<h4 align=\"center\">Sharif University of Technology, Spring 2024</h4>\n",
    "\n",
    "\n",
    "**<font color='red'>Plagiarism is strongly prohibited!</font>**\n",
    "\n",
    "\n",
    "**Student Name**:ahmadreza majlesara\n",
    "\n",
    "**Student ID**:400101861\n",
    "\n",
    "\n",
    "\n"
   ]
  },
  {
   "cell_type": "markdown",
   "id": "a01c559e",
   "metadata": {},
   "source": [
    "## Importing Libraries\n",
    "\n",
    "First we import libraries that we need for this assignment."
   ]
  },
  {
   "cell_type": "code",
   "execution_count": 49,
   "id": "0423187e",
   "metadata": {},
   "outputs": [],
   "source": [
    "import numpy as np\n",
    "import pandas as pd\n",
    "import matplotlib.pyplot as plt\n",
    "from sklearn.model_selection import train_test_split\n",
    "import warnings\n",
    "from sklearn.naive_bayes import GaussianNB\n",
    "from sklearn.metrics import accuracy_score\n",
    "from sklearn.exceptions import DataConversionWarning\n",
    "from sklearn.discriminant_analysis import LinearDiscriminantAnalysis\n",
    "\n",
    "# import any other libraries needed below"
   ]
  },
  {
   "cell_type": "markdown",
   "id": "2f795731",
   "metadata": {},
   "source": [
    "## Reading Data and Preprocessing\n",
    "\n",
    "In this section, we want to read data from a CSV file and then preprocess it to make it ready for the rest of the problem.\n",
    "\n",
    "First, we read the data in the cell below and extract an $m \\times n$ matrix, $X$, and an $m \\times 1$ vector, $Y$, from it, which represent our knowledge about the features of the data (`X1`, `X2`, `X3`) and the class (`Y`), respectively. Note that by $m$, we mean the number of data points and by $n$, we mean the number of features."
   ]
  },
  {
   "cell_type": "code",
   "execution_count": 5,
   "id": "410e750d",
   "metadata": {},
   "outputs": [
    {
     "name": "stdout",
     "output_type": "stream",
     "text": [
      "(10000, 3)\n",
      "(10000, 1)\n",
      "[[ 212.3336436   327.3821731   259.6832812 ]\n",
      " [  80.91978594 1006.053094    446.5164846 ]\n",
      " [ 578.7344137   994.6926298   690.1343431 ]\n",
      " [ 305.0326315   129.3307823   300.8593097 ]\n",
      " [ 619.6327388   640.43345     398.8456938 ]\n",
      " [ 315.915717    509.0300312    29.26469043]\n",
      " [ 999.9202223   896.3121866   892.3366086 ]\n",
      " [ 721.1379446   786.6805022   187.1686526 ]\n",
      " [  95.88855179  881.5834742   255.3789019 ]\n",
      " [ 438.2258234   987.9277497    51.69301918]]\n",
      "[[1]\n",
      " [1]\n",
      " [1]\n",
      " [0]\n",
      " [1]\n",
      " [1]\n",
      " [1]\n",
      " [1]\n",
      " [1]\n",
      " [1]]\n"
     ]
    }
   ],
   "source": [
    "X, Y = None, None\n",
    "\n",
    "\n",
    "### START CODE HERE ###\n",
    "data = pd.read_csv('data_logistic.csv')\n",
    "\n",
    "X = data[['X1', 'X2', 'X3']].values\n",
    "Y = data['Y'].values.reshape(-1, 1)\n",
    "### END CODE HERE ###\n",
    "\n",
    "print(X.shape)\n",
    "print(Y.shape)\n",
    "print(X[:10])\n",
    "print(Y[:10])"
   ]
  },
  {
   "cell_type": "markdown",
   "id": "866734e2",
   "metadata": {},
   "source": [
    "Next, we should normalize our data. For normalizing a vector $\\mathbf{x}$, a very common method is to use this formula:\n",
    "\n",
    "$$\n",
    "\\mathbf{x}_{norm} = \\dfrac{\\mathbf{x} - \\overline{\\mathbf{x}}}{\\sigma_\\mathbf{x}}\n",
    "$$\n",
    "\n",
    "Here, $\\overline{x}$ and $\\sigma_\\mathbf{x}$ denote the mean and standard deviation of vector $\\mathbf{x}$, respectively. Use this formula and store the new $X$ and $Y$ vectors in the cell below.\n",
    "\n",
    "**Question**: Briefly explain why we need to normalize our data before starting the training.\n",
    "\n",
    "\n",
    "\n",
    "<span style=\"color:pink;\">\n",
    "\n",
    "**Answer**:\n",
    "\n",
    "**1. Faster Convergence:** When features are on different scales, gradient descent (the algorithm commonly used to optimize many machine learning models) can take longer to converge. Normalizing the data to a similar scale helps the algorithm to converge more quickly by ensuring that each feature contributes equally to the distance calculations, avoiding distortions in the feature space.\n",
    "\n",
    "**2. Improved Accuracy:** Models, particularly those that use distance calculations such as k-nearest neighbors (KNN) and support vector machines (SVM), can perform poorly if features are not on the same scale. This is because features with larger scales dominate the distance calculations, potentially leading to inaccurate predictions.\n",
    "\n",
    "**3. Avoid Numerical Instability:** Some algorithms, especially those involving matrix computations (like in neural networks), can suffer from numerical instability due to very high or low input values. Normalization helps to prevent values that are too large or too small, which can cause computational problems (like overflow or underflow) during training.\n",
    "\n",
    "**4. Algorithm Requirement:** Certain algorithms, such as those using L1 or L2 regularization, assume data centered around 0. Normalization helps meet these assumptions, thereby allowing the algorithms to perform as expected.\n",
    "\n",
    "**5. Uniformity:** Applying normalization ensures that the input parameters are uniformly evaluated, especially important in models that involve regularization or feature weighting, ensuring that no feature is unfairly penalized or overweighted due to its scale.\n",
    "\n",
    "</span>\n"
   ]
  },
  {
   "cell_type": "code",
   "execution_count": 6,
   "id": "9e757eb0",
   "metadata": {},
   "outputs": [
    {
     "name": "stdout",
     "output_type": "stream",
     "text": [
      "[[-1.00066149 -0.60536985 -0.85021999]\n",
      " [-1.45366949  1.73051062 -0.20238503]\n",
      " [ 0.26239007  1.69140966  0.64234794]\n",
      " [-0.68111085 -1.28703215 -0.70744413]\n",
      " [ 0.4033742   0.47210428 -0.36768115]\n",
      " [-0.64359483  0.01983401 -1.64918514]\n",
      " [ 1.71429585  1.35279937  1.34347437]\n",
      " [ 0.75328151  0.97546405 -1.1016609 ]\n",
      " [-1.40206937  1.30210542 -0.86514521]\n",
      " [-0.22196916  1.66812598 -1.57141601]]\n",
      "[[ 0.70832689]\n",
      " [ 0.70832689]\n",
      " [ 0.70832689]\n",
      " [-1.41177754]\n",
      " [ 0.70832689]\n",
      " [ 0.70832689]\n",
      " [ 0.70832689]\n",
      " [ 0.70832689]\n",
      " [ 0.70832689]\n",
      " [ 0.70832689]]\n"
     ]
    }
   ],
   "source": [
    "### START CODE HERE ###\n",
    "# Normalize X\n",
    "X_mean = np.mean(X, axis=0)\n",
    "X_std = np.std(X, axis=0)\n",
    "X_normalized = (X - X_mean) / X_std\n",
    "\n",
    "# Normalize Y\n",
    "Y_mean = np.mean(Y)\n",
    "Y_std = np.std(Y)\n",
    "Y_normalized = (Y - Y_mean) / Y_std\n",
    "\n",
    "print(X_normalized[:10])\n",
    "print(Y_normalized[:10])\n",
    "### END CODE HERE ###"
   ]
  },
  {
   "cell_type": "markdown",
   "id": "5465bfa4",
   "metadata": {},
   "source": [
    "Finally, we should add a column of $1$s at the beginning of $X$ to represent the bias term. Do this in the next cell. Note that after this process, $X$ should be an $m \\times (n+1)$ matrix."
   ]
  },
  {
   "cell_type": "code",
   "execution_count": 9,
   "id": "b9a60f1f",
   "metadata": {},
   "outputs": [
    {
     "name": "stdout",
     "output_type": "stream",
     "text": [
      "(10000, 4)\n",
      "[[ 1.         -1.00066149 -0.60536985 -0.85021999]\n",
      " [ 1.         -1.45366949  1.73051062 -0.20238503]\n",
      " [ 1.          0.26239007  1.69140966  0.64234794]\n",
      " [ 1.         -0.68111085 -1.28703215 -0.70744413]\n",
      " [ 1.          0.4033742   0.47210428 -0.36768115]\n",
      " [ 1.         -0.64359483  0.01983401 -1.64918514]\n",
      " [ 1.          1.71429585  1.35279937  1.34347437]\n",
      " [ 1.          0.75328151  0.97546405 -1.1016609 ]\n",
      " [ 1.         -1.40206937  1.30210542 -0.86514521]\n",
      " [ 1.         -0.22196916  1.66812598 -1.57141601]]\n"
     ]
    }
   ],
   "source": [
    "### START CODE HERE ###\n",
    "X_normalized_with_bias = np.insert(X_normalized, 0, 1, axis=1)\n",
    "\n",
    "### END CODE HERE ###\n",
    "\n",
    "print(X_normalized_with_bias.shape)\n",
    "print(X_normalized_with_bias[:10])"
   ]
  },
  {
   "cell_type": "markdown",
   "id": "5cdf0d78",
   "metadata": {},
   "source": [
    "## Training Model"
   ]
  },
  {
   "cell_type": "markdown",
   "id": "c8714abe",
   "metadata": {},
   "source": [
    "### Sigmoid Function\n",
    "You should begin by implementing the $\\sigma(\\mathbf{x})$ function. Recall that the logistic regression hypothesis $\\mathcal{h}()$ is defined as:\n",
    "$$\n",
    "\\mathcal{h}_{\\theta}(\\mathbf{x}) = \\mathcal{g}(\\theta^\\mathbf{T}\\mathbf{x})\n",
    "$$\n",
    "where $\\mathcal{g}()$ is the sigmoid function as:\n",
    "$$\n",
    "\\mathcal{g}(\\mathbf{z}) = \\frac{1}{1+exp^{-\\mathbf{z}}}\n",
    "$$\n",
    "The Sigmoid function has the property that $\\mathbf{g}(+\\infty)\\approx 1$ and $\\mathcal{g}(−\\infty)\\approx0$. Test your function by calling `sigmoid(z)` on different test samples. Be certain that your sigmoid function works with both vectors and matrices - for either a vector or a matrix, your function should perform the sigmoid function on every element."
   ]
  },
  {
   "cell_type": "code",
   "execution_count": 13,
   "id": "6a6b6ae4",
   "metadata": {},
   "outputs": [],
   "source": [
    "def sigmoid(Z):\n",
    "    '''\n",
    "    Applies the sigmoid function on every element of Z\n",
    "    Arguments:\n",
    "        Z can be a (n,) vector or (n , m) matrix\n",
    "    Returns:\n",
    "        A vector/matrix, same shape with Z, that has the sigmoid function applied elementwise\n",
    "    '''\n",
    "    ### START CODE HERE ###\n",
    "\n",
    "    return 1 / (1 + np.exp(-Z))\n",
    "    ### END CODE HERE ###\n",
    "\n"
   ]
  },
  {
   "cell_type": "code",
   "execution_count": 14,
   "id": "7b596d00",
   "metadata": {},
   "outputs": [
    {
     "name": "stdout",
     "output_type": "stream",
     "text": [
      "Vector sigmoid: [0.62245933 0.26894142 0.88079708]\n",
      "Matrix sigmoid:\n",
      "[[0.73105858 0.88079708 0.26894142]\n",
      " [0.37754067 0.81757448 0.5       ]]\n"
     ]
    }
   ],
   "source": [
    "vector = np.array([0.5, -1.0, 2.0])\n",
    "\n",
    "matrix = np.array([[1.0, 2.0, -1.0],\n",
    "                   [-0.5, 1.5, 0.0]])\n",
    "\n",
    "\n",
    "\n",
    "vector_sigmoid = sigmoid(vector)\n",
    "print(\"Vector sigmoid:\", vector_sigmoid)\n",
    "\n",
    "matrix_sigmoid = sigmoid(matrix)\n",
    "print(\"Matrix sigmoid:\")\n",
    "print(matrix_sigmoid)"
   ]
  },
  {
   "cell_type": "markdown",
   "id": "83846074",
   "metadata": {},
   "source": [
    "### Cost Function \n",
    "Implement the functions to compute the cost function. Recall the cost function for logistic regression is a scalar value given by:\n",
    "$$\n",
    "\\mathcal{J}(\\theta) = \\sum_{i=1}^{n}[-y^{(i)}\\log{(\\mathcal{h}_\\theta(\\mathbf{x}^{(i)}))}-(1-y^{(i)})\\log{(1-\\mathcal{h}_\\theta(\\mathbf{x}^{(i)}))}] + \\frac{\\lambda}{2}||\\theta||_2^2\n",
    "$$"
   ]
  },
  {
   "cell_type": "code",
   "execution_count": 30,
   "id": "26a9bdeb",
   "metadata": {},
   "outputs": [],
   "source": [
    "def computeCost(theta, X, y, regLambda):\n",
    "    '''\n",
    "    Computes the objective function\n",
    "    Arguments:\n",
    "        theta is d-dimensional numpy vector\n",
    "        X is a n-by-d numpy matrix\n",
    "        y is an n-dimensional numpy vector\n",
    "        regLambda is the scalar regularization constant\n",
    "    Returns:\n",
    "        a scalar value of the cost  ** make certain you're not returning a 1 x 1 matrix! **\n",
    "    '''\n",
    "    \n",
    "    m, n = X.shape\n",
    "    ### BEGIN: CODE ###\n",
    "\n",
    "    h = sigmoid(np.dot(X, theta))\n",
    "    regularization_term = (regLambda / (2 * m)) * np.sum(np.square(theta[1:]))\n",
    "    with warnings.catch_warnings():\n",
    "        warnings.simplefilter(\"ignore\", category=RuntimeWarning)\n",
    "        loss = (-1 / m) * np.sum(y * np.log(h) + (1 - y) * np.log(1 - h)) + regularization_term\n",
    "\n",
    "    ### END: CODE ###\n",
    "    return loss\n"
   ]
  },
  {
   "cell_type": "markdown",
   "id": "6eaf1146",
   "metadata": {},
   "source": [
    "### Gradient of the Cost Function\n",
    "Now, we want to calculate the gradient of the cost function. The gradient of the cost function is a d-dimensional vector.\\\n",
    "We must be careful not to regularize the $\\theta_0$ parameter (corresponding to the first feature we add to each instance), and so the 0's element is given by:\n",
    "$$\n",
    "\\frac{\\partial \\mathcal{J}(\\theta)}{\\partial \\theta_0} = \\sum_{i=1}^n (\\mathcal{h}_\\theta(\\mathbf{x}^{(i)})-y^{(i)})\n",
    "$$\n",
    "\n",
    "Question: What is the answer to this problem for the $j^{th}$ element (for $j=1...d$)?\n",
    "\n",
    "Answer:\n",
    "\n",
    "For $j \\geq 1$ , the partial derivative of the cost function $\\mathcal{J}(\\theta)$ with respect to $\\theta_j$ includes both the gradient of the logistic loss function and the gradient of the regularization term. The derivative is given by:\n",
    "\n",
    "$$\n",
    "\\frac{\\partial \\mathcal{J}(\\theta)}{\\partial \\theta_j} = \\frac{1}{n} \\sum_{i=1}^n (\\mathcal{h}_\\theta(\\mathbf{x}^{(i)}) - y^{(i)}) x_j^{(i)} + \\frac{\\lambda}{n} \\theta_j\n",
    "$$\n"
   ]
  },
  {
   "cell_type": "code",
   "execution_count": 16,
   "id": "35f7c2dd",
   "metadata": {},
   "outputs": [],
   "source": [
    "def computeGradient(theta, X, y, regLambda):\n",
    "    '''\n",
    "    Computes the gradient of the objective function\n",
    "    Arguments:\n",
    "        theta is d-dimensional numpy vector\n",
    "        X is a n-by-d numpy matrix\n",
    "        y is an n-dimensional numpy vector\n",
    "        regLambda is the scalar regularization constant\n",
    "    Returns:\n",
    "        the gradient, an d-dimensional vector\n",
    "    '''\n",
    "    \n",
    "    m, n = X.shape\n",
    "    grad = None\n",
    "    ### START CODE HERE ###\n",
    "    h = sigmoid(np.dot(X, theta))\n",
    "    regularization_term = (regLambda / m) * theta\n",
    "    regularization_term[0] = 0\n",
    "    grad = (1 / m) * np.dot(X.T, (h - y)) + regularization_term\n",
    "    ### END CODE HERE ###\n",
    "    return grad"
   ]
  },
  {
   "cell_type": "markdown",
   "id": "24bc86bd",
   "metadata": {},
   "source": [
    "### Training and Prediction\n",
    "Once you have the cost and gradient functions complete, implemen tthe fit and predict methods.\\\n",
    "Your fit method should train the model via gradient descent, relying on the cost and gradient functions. This function should return two parameters. The first parameter is $\\theta$, and the second parameter is a `numpy` array that contains the loss in each iteration. This array is indicated by `loss_history` in the code.\\\n",
    "Instead of simply running gradient descent for a specific number of iterations, we will use a more sophisticated method: we will stop it after the solution hasconverged. Stop the gradient descent procedure when $\\theta$ stops changing between consecutive iterations. You can detect this convergence when:\n",
    "$$\n",
    "||\\theta_{new}-\\theta_{old}||_2 <= \\epsilon,\n",
    "$$\n",
    "for some small $\\epsilon$ (e.g, $\\epsilon=10E-4$).\\\n",
    "For readability, we’d recommend implementing this convergence test as a dedicated function `hasConverged`."
   ]
  },
  {
   "cell_type": "code",
   "execution_count": 17,
   "id": "cc0cad78",
   "metadata": {},
   "outputs": [],
   "source": [
    "\n",
    "def fit(X, y, regLambda=0.01, alpha=0.01, epsilon=1e-4, maxNumIters=100):\n",
    "    '''\n",
    "    Trains the model\n",
    "    Arguments:\n",
    "        X           is a n-by-d numpy matrix\n",
    "        y           is an n-dimensional numpy vector\n",
    "        maxNumIters is the maximum number of gradient descent iterations\n",
    "        regLambda   is the scalar regularization constant\n",
    "        epsilon     is the convergence rate\n",
    "        alpha       is the gradient descent learning rate\n",
    "    '''\n",
    "    \n",
    "    m, n = X.shape\n",
    "    theta = np.zeros((n, 1))\n",
    "    loss_history = []\n",
    "    \n",
    "    for i in range(maxNumIters):\n",
    "        theta_old = theta.copy()\n",
    "        \n",
    "        grad = computeGradient(theta, X, y, regLambda)\n",
    "        \n",
    "        theta -= alpha * grad\n",
    "        \n",
    "        loss = computeCost(theta, X, y, regLambda)\n",
    "        loss_history.append(loss)\n",
    "        \n",
    "        if hasConverged(theta_old, theta, epsilon):\n",
    "            break\n",
    "    \n",
    "    return theta, loss_history\n",
    "\n",
    "\n",
    "def hasConverged(theta_old, theta_new, epsilon):\n",
    "    '''\n",
    "    Return if the theta converged or not\n",
    "    Arguments:\n",
    "        theta_old   is the theta calculated in previous iteration\n",
    "        theta_new   is the theta calculated in current iteration\n",
    "        epsilon     is the convergence rate\n",
    "    '''\n",
    "    return np.linalg.norm(theta_new - theta_old) <= epsilon"
   ]
  },
  {
   "cell_type": "markdown",
   "id": "bb648852",
   "metadata": {},
   "source": [
    "Finally, we want to evaluate our loss for this problem. Complete the cell below to calculate and print the loss of each iteration and the final theta of your model."
   ]
  },
  {
   "cell_type": "code",
   "execution_count": 20,
   "id": "252e556f",
   "metadata": {},
   "outputs": [
    {
     "name": "stdout",
     "output_type": "stream",
     "text": [
      "Iteration1: Loss=0.6844231894886044\n",
      "Iteration2: Loss=0.6757430885565388\n",
      "Iteration3: Loss=0.6671066508137953\n",
      "Iteration4: Loss=0.6585136456832319\n",
      "Iteration5: Loss=0.649963839094398\n",
      "Iteration6: Loss=0.641456993617721\n",
      "Iteration7: Loss=0.6329928685988297\n",
      "Iteration8: Loss=0.624571220292854\n",
      "Iteration9: Loss=0.6161918019985356\n",
      "Iteration10: Loss=0.6078543641919977\n",
      "Iteration11: Loss=0.5995586546600191\n",
      "Iteration12: Loss=0.5913044186326691\n",
      "Iteration13: Loss=0.5830913989151598\n",
      "Iteration14: Loss=0.5749193360187808\n",
      "Iteration15: Loss=0.5667879682907841\n",
      "Iteration16: Loss=0.5586970320430971\n",
      "Iteration17: Loss=0.55064626167974\n",
      "Iteration18: Loss=0.5426353898228389\n",
      "Iteration19: Loss=0.5346641474371224\n",
      "Iteration20: Loss=0.526732263952804\n",
      "Iteration21: Loss=0.5188394673867502\n",
      "Iteration22: Loss=0.51098548446185\n",
      "Iteration23: Loss=0.5031700407244957\n",
      "Iteration24: Loss=0.4953928606601025\n",
      "Iteration25: Loss=0.48765366780659214\n",
      "Iteration26: Loss=0.4799521848657743\n",
      "Iteration27: Loss=0.4722881338125673\n",
      "Iteration28: Loss=0.46466123600200093\n",
      "Iteration29: Loss=0.4570712122739546\n",
      "Iteration30: Loss=0.449517783055585\n",
      "Iteration31: Loss=0.4420006684614067\n",
      "Iteration32: Loss=0.4345195883909908\n",
      "Iteration33: Loss=0.42707426262425513\n",
      "Iteration34: Loss=0.419664410914321\n",
      "Iteration35: Loss=0.41228975307791965\n",
      "Iteration36: Loss=0.404950009083333\n",
      "Iteration37: Loss=0.3976448991358594\n",
      "Iteration38: Loss=0.39037414376079926\n",
      "Iteration39: Loss=0.3831374638839595\n",
      "Iteration40: Loss=0.37593458090967763\n",
      "Iteration41: Loss=0.36876521679637364\n",
      "Iteration42: Loss=0.3616290941296375\n",
      "Iteration43: Loss=0.3545259361928661\n",
      "Iteration44: Loss=0.3474554670354656\n",
      "Iteration45: Loss=0.34041741153863714\n",
      "Iteration46: Loss=0.3334114954787687\n",
      "Iteration47: Loss=0.3264374455884568\n",
      "Iteration48: Loss=0.319494989615184\n",
      "Iteration49: Loss=0.3125838563776826\n",
      "Iteration50: Loss=0.3057037758200132\n",
      "Iteration51: Loss=0.2988544790633929\n",
      "Iteration52: Loss=0.29203569845580707\n",
      "Iteration53: Loss=0.2852471676194395\n",
      "Iteration54: Loss=0.2784886214959598\n",
      "Iteration55: Loss=0.2717597963897073\n",
      "Iteration56: Loss=0.26506043000880875\n",
      "Iteration57: Loss=0.2583902615042738\n",
      "Iteration58: Loss=0.2517490315071084\n",
      "Iteration59: Loss=0.24513648216348854\n",
      "Iteration60: Loss=0.23855235716803805\n",
      "Iteration61: Loss=0.23199640179525466\n",
      "Iteration62: Loss=0.22546836292912653\n",
      "Iteration63: Loss=0.21896798909098647\n",
      "Iteration64: Loss=0.2124950304656455\n",
      "Iteration65: Loss=0.2060492389258528\n",
      "Iteration66: Loss=0.19963036805512616\n",
      "Iteration67: Loss=0.19323817316899664\n",
      "Iteration68: Loss=0.18687241133471397\n",
      "Iteration69: Loss=0.18053284138945555\n",
      "Iteration70: Loss=0.1742192239570843\n",
      "Iteration71: Loss=0.16793132146349798\n",
      "Iteration72: Loss=0.16166889815061558\n",
      "Iteration73: Loss=0.1554317200890413\n",
      "Iteration74: Loss=0.14921955518945113\n",
      "Iteration75: Loss=0.14303217321274173\n",
      "Iteration76: Loss=0.13686934577898588\n",
      "Iteration77: Loss=0.1307308463752328\n",
      "Iteration78: Loss=0.12461645036219553\n",
      "Iteration79: Loss=0.11852593497986362\n",
      "Iteration80: Loss=0.11245907935208177\n",
      "Iteration81: Loss=0.10641566449013065\n",
      "Iteration82: Loss=0.10039547329534923\n",
      "Iteration83: Loss=0.09439829056083424\n",
      "Iteration84: Loss=0.08842390297225329\n",
      "Iteration85: Loss=0.08247209910780694\n",
      "Iteration86: Loss=0.07654266943737385\n",
      "Iteration87: Loss=0.07063540632087308\n",
      "Iteration88: Loss=0.06475010400587611\n",
      "Iteration89: Loss=0.058886558624500755\n",
      "Iteration90: Loss=0.05304456818961857\n",
      "Iteration91: Loss=0.04722393259040545\n",
      "Iteration92: Loss=0.04142445358726613\n",
      "Iteration93: Loss=0.035645934806160684\n",
      "Iteration94: Loss=0.029888181732361147\n",
      "Iteration95: Loss=0.024151001703666262\n",
      "Iteration96: Loss=0.018434203903099824\n",
      "Iteration97: Loss=0.012737599351119313\n",
      "Iteration98: Loss=0.007061000897359132\n",
      "Iteration99: Loss=0.0014042232119330675\n",
      "Iteration100: Loss=-0.004232917223680923\n",
      "Final Theta:\n",
      "[[-0.44628617]\n",
      " [-0.46412764]\n",
      " [ 0.50530387]\n",
      " [ 0.15921832]]\n"
     ]
    }
   ],
   "source": [
    "# calculating theta and loss of each iteration\n",
    "theta, loss_history = fit(X_normalized_with_bias, Y_normalized)\n",
    "\n",
    "### START CODE HERE ###\n",
    "for i, loss in enumerate(loss_history):\n",
    "    print(f\"Iteration{i+1}: Loss={loss}\")\n",
    "\n",
    "print(\"Final Theta:\")\n",
    "print(theta)\n",
    "### END CODE HERE ###"
   ]
  },
  {
   "cell_type": "markdown",
   "id": "f4b3fab6",
   "metadata": {},
   "source": [
    "### Testing Your Implementation\n",
    "To test your logistic regression implementation, first you should use `train_test_split` function to split dataset into three parts:\n",
    "\n",
    "- 70% for the training set\n",
    "- 20% for the validation set\n",
    "- 10% for the test set\n",
    "\n",
    "Do this in the cell below."
   ]
  },
  {
   "cell_type": "code",
   "execution_count": 23,
   "id": "4518fe11",
   "metadata": {},
   "outputs": [
    {
     "name": "stdout",
     "output_type": "stream",
     "text": [
      "Train set shapes: (7000, 4) (7000, 1)\n",
      "Validation set shapes: (2000, 4) (2000, 1)\n",
      "Test set shapes: (1000, 4) (1000, 1)\n"
     ]
    }
   ],
   "source": [
    "\n",
    "\n",
    "\n",
    "### START CODE HERE ###\n",
    "# Splitting the dataset into train, validate, and test sets\n",
    "X_train, X_temp, Y_train, Y_temp = train_test_split(X_normalized_with_bias, Y_normalized, test_size=0.3, random_state=42)\n",
    "X_val, X_test, Y_val, Y_test = train_test_split(X_temp, Y_temp, test_size=1/3, random_state=42)\n",
    "\n",
    "# Checking the shapes of the split datasets\n",
    "print(\"Train set shapes:\", X_train.shape, Y_train.shape)\n",
    "print(\"Validation set shapes:\", X_val.shape, Y_val.shape)\n",
    "print(\"Test set shapes:\", X_test.shape, Y_test.shape)\n",
    "### END CODE HERE ###"
   ]
  },
  {
   "cell_type": "markdown",
   "id": "f9fbe5d7",
   "metadata": {},
   "source": [
    "Then, you should complete `predict` function to find the weight vector and the loss on the test data."
   ]
  },
  {
   "cell_type": "code",
   "execution_count": 25,
   "id": "95c2fe20",
   "metadata": {},
   "outputs": [],
   "source": [
    "def predict(X, theta):\n",
    "    '''\n",
    "    Use the model to predict values for each instance in X\n",
    "    Arguments:\n",
    "        theta is d-dimensional numpy vector\n",
    "        X     is a n-by-d numpy matrix\n",
    "    Returns:\n",
    "        an n-dimensional numpy vector of the predictions, the output should be binary (use h_theta > .5)\n",
    "    '''\n",
    "    h_theta = sigmoid(np.dot(X, theta))\n",
    "    Y = (h_theta > 0.5).astype(int)\n",
    "    return Y\n"
   ]
  },
  {
   "cell_type": "markdown",
   "id": "246d1c02",
   "metadata": {},
   "source": [
    "Now, run the `fit` and `predict` function for different values of the learning rate and regularization constant. Plot the `loss_history` of these different values for train and test data both in the same figure.\n",
    "\n",
    "**Question**: Discuss the effect of the learning rate and regularization constant and find the best values of these parameters.\n",
    "\n",
    "<span style=\"color:pink;\">\n",
    "\n",
    "**Answer**:\n",
    "the answer is plotted in below block\n",
    "\n",
    "</span>"
   ]
  },
  {
   "cell_type": "code",
   "execution_count": 37,
   "id": "cd2af382",
   "metadata": {},
   "outputs": [
    {
     "data": {
      "image/png": "[encoded data removed]",
      "text/plain": [
       "<Figure size 1500x500 with 3 Axes>"
      ]
     },
     "metadata": {},
     "output_type": "display_data"
    }
   ],
   "source": [
    "\n",
    "\n",
    "### START CODE HERE ###\n",
    "def plot_loss(ax, alpha, regLambda_values):\n",
    "    for regLambda in regLambda_values:\n",
    "        theta, loss_history = fit(X_train, Y_train, regLambda=regLambda, alpha=alpha)\n",
    "        val_loss = computeCost(theta, X_val, Y_val, regLambda)\n",
    "        loss_history = np.array(loss_history).flatten()\n",
    "        val_loss = np.array(val_loss).flatten()\n",
    "        ax.plot(range(len(loss_history)), loss_history, label=f'Lambda={regLambda} Train Loss')\n",
    "        ax.axhline(y=val_loss, color='r', linestyle='--', label=f'Lambda={regLambda} Validation Loss')\n",
    "    ax.set_title(f\"Alpha={alpha}\")\n",
    "    ax.set_xlabel('Iteration')\n",
    "    ax.set_ylabel('Loss')\n",
    "    ax.legend()\n",
    "\n",
    "alpha_values = [0.01, 0.1, 0.2]\n",
    "regLambda_values = [0.01, 0.1, 1]\n",
    "\n",
    "fig, axs = plt.subplots(1, len(alpha_values), figsize=(15, 5))\n",
    "\n",
    "for i, alpha in enumerate(alpha_values):\n",
    "    plot_loss(axs[i], alpha, regLambda_values)\n",
    "\n",
    "plt.tight_layout()\n",
    "plt.show()"
   ]
  },
  {
   "cell_type": "markdown",
   "id": "11babf15",
   "metadata": {},
   "source": [
    "## Naive Bayes\n",
    "\n",
    "In this part, you will use the `GaussianNB` classifier to classify the data. You should not change the default parameters of this classifier. First, train the classifier on the training set and then find the accuracy of it on the test set.\n",
    "\n",
    "**Question**: What is the accuracy of this method on test set?\n",
    "\n",
    "<span style=\"color:pink;\">\n",
    "\n",
    "**Answer**:\n",
    "the accuracy is the output og below block\n",
    "\n",
    "</span>"
   ]
  },
  {
   "cell_type": "code",
   "execution_count": 48,
   "id": "1ef450fb",
   "metadata": {},
   "outputs": [
    {
     "name": "stdout",
     "output_type": "stream",
     "text": [
      "Accuracy: 94.15%\n"
     ]
    }
   ],
   "source": [
    "### START CODE HERE ###\n",
    "\n",
    "X_train, X_test, Y_train, Y_test = train_test_split(X, Y, test_size=0.2, random_state=42)\n",
    "\n",
    "# Initialize the GaussianNB classifier\n",
    "clf = GaussianNB()\n",
    "\n",
    "# Train the classifier\n",
    "with warnings.catch_warnings():\n",
    "    warnings.simplefilter(\"ignore\", category=DataConversionWarning)\n",
    "    clf.fit(X_train, Y_train)\n",
    "\n",
    "\n",
    "# Predict the labels of the test set\n",
    "y_pred = clf.predict(X_test)\n",
    "\n",
    "# Compute the accuracy of the test set\n",
    "accuracy = accuracy_score(Y_test, y_pred)\n",
    "\n",
    "print(f\"Accuracy: {accuracy*100:.2f}%\")\n",
    "\n",
    "### END CODE HERE ###"
   ]
  },
  {
   "cell_type": "markdown",
   "id": "b371657d",
   "metadata": {},
   "source": [
    "## LDA (Linear Discriminant Analysis)\n",
    "\n",
    "In this part, you will use the `LinearDiscriminantAnalysis` classifier to classify the data. You should not change the default parameters of this classifier. First, train the classifier on the training set and then find the accuracy of it on the test set.\n",
    "\n",
    "**Question**: What is the accuracy of this method on test set?\n",
    "\n",
    "<span style=\"color:pink;\">\n",
    "\n",
    "**Answer**:\n",
    "the accuracy is the output og below block\n",
    "\n",
    "</span>"
   ]
  },
  {
   "cell_type": "code",
   "execution_count": 50,
   "id": "92cc8743",
   "metadata": {},
   "outputs": [
    {
     "name": "stdout",
     "output_type": "stream",
     "text": [
      "Accuracy: 98.95%\n"
     ]
    }
   ],
   "source": [
    "\n",
    "### START CODE HERE ###\n",
    "\n",
    "# Initialize the LDA classifier\n",
    "clf = LinearDiscriminantAnalysis()\n",
    "\n",
    "# Train the classifier\n",
    "with warnings.catch_warnings():\n",
    "    warnings.simplefilter(\"ignore\", category=DataConversionWarning)\n",
    "    clf.fit(X_train, Y_train)\n",
    "\n",
    "# Predict the labels of the test set\n",
    "y_pred = clf.predict(X_test)\n",
    "\n",
    "# Compute the accuracy of the test set\n",
    "accuracy = accuracy_score(Y_test, y_pred)\n",
    "\n",
    "print(f\"Accuracy: {accuracy*100:.2f}%\")\n",
    "\n",
    "### END CODE HERE ###"
   ]
  },
  {
   "cell_type": "markdown",
   "id": "47736bdf",
   "metadata": {},
   "source": [
    "## Conclution\n",
    "\n",
    "**Question**: What is the best method for classifying this dataset? What is the best accuracy on the test set?\n",
    "\n",
    "**Answer**:"
   ]
  }
 ],
 "metadata": {
  "kernelspec": {
   "display_name": "Python 3 (ipykernel)",
   "language": "python",
   "name": "python3"
  },
  "language_info": {
   "codemirror_mode": {
    "name": "ipython",
    "version": 3
   },
   "file_extension": ".py",
   "mimetype": "text/x-python",
   "name": "python",
   "nbconvert_exporter": "python",
   "pygments_lexer": "ipython3",
   "version": "3.9.6"
  }
 },
 "nbformat": 4,
 "nbformat_minor": 5
}
