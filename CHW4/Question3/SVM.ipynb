{
  "cells": [
    {
      "cell_type": "markdown",
      "metadata": {
        "id": "I8eZGMPb-GlP"
      },
      "source": [
        "<h1 align=\"center\">Introduction to Machine Learning - 25737-2</h1>\n",
        "<h4 align=\"center\">Dr. R. Amiri</h4>\n",
        "<h4 align=\"center\">Sharif University of Technology, Spring 2024</h4>\n",
        "\n",
        "\n",
        "**<font color='red'>Plagiarism is strongly prohibited!</font>**\n",
        "\n",
        "\n",
        "**Student Name**:ahmadreza majlesara\n",
        "\n",
        "**Student ID**:400101861\n"
      ]
    },
    {
      "cell_type": "markdown",
      "metadata": {
        "id": "PZR9dmJu-U97"
      },
      "source": [
        "# ****Support Vector Machines****"
      ]
    },
    {
      "cell_type": "markdown",
      "metadata": {
        "id": "zL8V07IE-a-K"
      },
      "source": [
        "In this notebook, you will implement SVM for three datasets. You will become more familiar with the Soft-Margin SVM and the Kernel trick, which makes SVM extremely powerful.\n",
        "\n",
        "Before we start our implementation, you must be comfortable with the theoretical details of the Soft-Margin SVM as an optimization problem and be able to derive the dual formulation for this problem. In the next sections, you will solve the dual optimization problem for all datasets using the CVXPY library, which has been developed for solving convex optimization problems. To get more familiar with CVXPY programming, you can use this [link](https://www.cvxpy.org)."
      ]
    },
    {
      "cell_type": "markdown",
      "metadata": {
        "id": "XPxlNYRjA2-q"
      },
      "source": [
        "This is the primal formulation for the Soft-Margin SVM for linearly separable data with slack variables $\\xi_i \\ge 0$:\n",
        "\n",
        "\\begin{equation*}\n",
        "\\begin{aligned}\n",
        "& {\\text{min.}}\n",
        "& & \\frac{1}{2} \\|w\\|^2 + C \\sum_{i=1}^{N} \\xi_i \\\\\n",
        "& \\text{s.t.}\n",
        "& & y_i(w^T x_i + b) \\geq 1 - \\xi_i, \\; i = 1, \\ldots, N \\\\\n",
        "& & & \\xi_i \\geq 0, \\; i = 1, \\ldots, N\n",
        "\\end{aligned}\n",
        "\\end{equation*}\n",
        "\n",
        "Where $w$ represents the weight vector, $b$ is the bias term, and $C$ is the regularization parameter controlling the trade-off between a wide margin and misclassification."
      ]
    },
    {
      "cell_type": "markdown",
      "metadata": {
        "id": "OstJ2GITCHPL"
      },
      "source": [
        "**Theoretical Questions:**\n",
        "\n",
        "1) Derive the dual optimization problem for the Soft-Margin SVM.\n",
        "\n",
        "2) How do we calculate the weights and bias ($w$ and $b$) using the dual problem optimum points?\n",
        "\n",
        "3) How do we classify new data points using the optimal weights and bias?"
      ]
    },
    {
      "cell_type": "markdown",
      "metadata": {
        "id": "cAWGsmGmDU5L"
      },
      "source": [
        "# Q1)\n",
        "\n",
        "\\begin{equation*}\n",
        "\\begin{aligned}\n",
        "& \\min_{w,b,\\xi} & & \\frac{1}{2} \\| w \\|^2 + C \\sum_{i=1}^{N} \\xi_i \\\\\n",
        "& \\text{s.t.} & & y_i (w^T x_i + b) \\geq 1 - \\xi_i, \\quad i = 1, \\ldots, N \\\\\n",
        "& & & \\xi_i \\geq 0, \\quad i = 1, \\ldots, N\n",
        "\\end{aligned}\n",
        "\\end{equation*}\n",
        "\n",
        "\n",
        "\n",
        "\\begin{equation*}\n",
        "\\begin{aligned}\n",
        "L(w, b, \\xi, \\alpha, \\mu) = & \\frac{1}{2} \\| w \\|^2 + C \\sum_{i=1}^{N} \\xi_i \\\\\n",
        "& - \\sum_{i=1}^{N} \\alpha_i [y_i (w^T x_i + b) - 1 + \\xi_i] \\\\\n",
        "& - \\sum_{i=1}^{N} \\mu_i \\xi_i\n",
        "\\end{aligned}\n",
        "\\end{equation*}\n",
        "\n",
        "To find the dual, we take the partial derivatives of $L$ with respect to $w$, $b$, and $\\xi_i$, and set them to zero.\n",
        "\n",
        "\\begin{equation*}\n",
        "\\frac{\\partial L}{\\partial w} = w - \\sum_{i=1}^{N} \\alpha_i y_i x_i = 0\n",
        "\\end{equation*}\n",
        "\n",
        "$$\n",
        "w = \\sum_{i=1}^{N} \\alpha_i y_i x_i\n",
        "$$\n",
        "\n",
        "$$\n",
        "\\frac{\\partial L}{\\partial b} = - \\sum_{i=1}^{N} \\alpha_i y_i = 0\n",
        "$$\n",
        "\n",
        "$$\n",
        "\\sum_{i=1}^{N} \\alpha_i y_i = 0\n",
        "$$\n",
        "\n",
        "\n",
        "\n",
        "\\begin{equation*}\n",
        "\\frac{\\partial L}{\\partial \\xi_i} = C - \\alpha_i - \\mu_i = 0\n",
        "\\end{equation*}\n",
        "\n",
        "Since $\\mu_i \\geq 0$ and $\\xi_i \\geq 0$, we get:\n",
        "\\begin{equation*}\n",
        "\\alpha_i \\leq C\n",
        "\\end{equation*}\n",
        "\n",
        "\n",
        "Substitute $w$ and $\\xi_i$ back into the Lagrangian to express it in terms of $\\alpha_i$.\n",
        "\n",
        "\\begin{equation*}\n",
        "\\begin{aligned}\n",
        "L(w, b, \\xi, \\alpha, \\mu) = & \\frac{1}{2} \\| \\sum_{i=1}^{N} \\alpha_i y_i x_i \\|^2 + C \\sum_{i=1}^{N} \\xi_i \\\\\n",
        "& - \\sum_{i=1}^{N} \\alpha_i \\left[ y_i \\left( \\sum_{j=1}^{N} \\alpha_j y_j x_j \\right)^T x_i + b - 1 + \\xi_i \\right] \\\\\n",
        "& - \\sum_{i=1}^{N} \\mu_i \\xi_i\n",
        "\\end{aligned}\n",
        "\\end{equation*}\n",
        "\n",
        "\n",
        "\n",
        "By simplifying, we obtain the dual formulation:\n",
        "\\begin{equation*}\n",
        "\\begin{aligned}\n",
        "\\max_{\\alpha} & \\sum_{i=1}^{N} \\alpha_i - \\frac{1}{2} \\sum_{i=1}^{N} \\sum_{j=1}^{N} \\alpha_i \\alpha_j y_i y_j x_i^T x_j \\\\\n",
        "\\text{s.t.} & \\sum_{i=1}^{N} \\alpha_i y_i = 0 \\\\\n",
        "& 0 \\leq \\alpha_i \\leq C, \\quad i = 1, \\ldots, N\n",
        "\\end{aligned}\n",
        "\\end{equation*}\n",
        "\n",
        "# Q2)\n",
        "\n",
        "To calculate the weights $ w $ and bias $ b $ using the optimum points from the dual problem, we follow these steps:\n",
        "\n",
        "\n",
        "\n",
        "First, we solve the dual optimization problem to find the optimal Lagrange multipliers $ \\alpha_i^* $:\n",
        "\n",
        "\\begin{equation*}\n",
        "\\begin{aligned}\n",
        "\\max_{\\alpha} & \\sum_{i=1}^{N} \\alpha_i - \\frac{1}{2} \\sum_{i=1}^{N} \\sum_{j=1}^{N} \\alpha_i \\alpha_j y_i y_j x_i^T x_j \\\\\n",
        "\\text{s.t.} & \\sum_{i=1}^{N} \\alpha_i y_i = 0 \\\\\n",
        "& 0 \\leq \\alpha_i \\leq C, \\quad i = 1, \\ldots, N\n",
        "\\end{aligned}\n",
        "\\end{equation*}\n",
        "\n",
        "\n",
        "\n",
        "Once we have the optimal $ \\alpha_i^* $, we can calculate the weight vector $ w $ using the following equation:\n",
        "\n",
        "\\begin{equation*}\n",
        "w = \\sum_{i=1}^{N} \\alpha_i^* y_i x_i\n",
        "\\end{equation*}\n",
        "\n",
        "This is derived from the partial derivative of the Lagrangian with respect to $ w $:\n",
        "\n",
        "\\begin{equation*}\n",
        "\\frac{\\partial L}{\\partial w} = w - \\sum_{i=1}^{N} \\alpha_i y_i x_i = 0 \\quad \\Rightarrow \\quad w = \\sum_{i=1}^{N} \\alpha_i y_i x_i\n",
        "\\end{equation*}\n",
        "\n",
        "\n",
        "\n",
        "To find the bias $ b $, we use the KKT (Karush-Kuhn-Tucker) conditions. For the support vectors, which are the data points where $ 0 < \\alpha_i^* < C $, the corresponding KKT condition is:\n",
        "\n",
        "\\begin{equation*}\n",
        "y_i (w^T x_i + b) = 1 - \\xi_i\n",
        "\\end{equation*}\n",
        "\n",
        "Since $ \\xi_i $ is zero for the support vectors that lie exactly on the margin (i.e., $ y_i (w^T x_i + b) = 1 $), we can select any support vector $x_i $ with $ 0 < \\alpha_i^* < C $ and solve for $ b $:\n",
        "\n",
        "\\begin{equation*}\n",
        "b = y_i - w^T x_i\n",
        "\\end{equation*}\n",
        "\n",
        "However, to improve numerical stability, we typically average over all such support vectors:\n",
        "\n",
        "\\begin{equation*}\n",
        "b = \\frac{1}{|S|} \\sum_{i \\in S} \\left( y_i - w^T x_i \\right)\n",
        "\\end{equation*}\n",
        "\n",
        "where $ S $ is the set of indices of the support vectors.\n",
        "\n",
        "# Q3)\n",
        "\n",
        "To classify new data points using the optimal weights ($w$) and bias ($b$) obtained from the Support Vector Machine (SVM) training process first we compute the decision function meaning For a new data point $x_{\\text{new}}$, calculate the decision function $f(x_{\\text{new}})$ using the optimal weights and bias. The decision function is given by:\n",
        "   \n",
        "   $f(x_{\\text{new}}) = w^T x_{\\text{new}} + b$\n",
        "   \n",
        "then Determine the Class Label for the new data point based on the sign of the decision function:\n",
        "   - If $f(x_{\\text{new}}) \\geq 0$, classify $x_{\\text{new}}$ as belonging to the positive class (typically labeled as +1).\n",
        "   - If $f(x_{\\text{new}}) < 0$, classify $x_{\\text{new}}$ as belonging to the negative class (typically labeled as -1).\n"
      ]
    },
    {
      "cell_type": "markdown",
      "metadata": {
        "id": "ZWwD5PXLEPdR"
      },
      "source": [
        "Sometimes, the data is not linearly separable. Therefore, the previous formulation of the Soft-Margin SVM does not give a good accuracy for the classification problem. The Kernel trick is a technique used in such situations. Consider $x$ as your input features with dimension $p$. One can use function $\\phi: R^p → R^d$ to map the input features to another space with dimension $d$. Finding good $\\phi$ such that data points become near linearly separable makes the previous formulation of the problem and its dual useful by replacing $\\phi(x_i)$ for $x_i$ in the problem definition. The function $\\phi(x)$ can even be a mapping to an infinite-dimensional space.\n",
        "\n",
        "If you have found the correct dual form of the Soft-Margin SVM in the previous formulation, you can see that the terms $x_i^T x_j$ will appear in the problem formulation and the prediction rule. These terms will be replaced with $\\phi(x_i)^T \\phi(x_j)$ when we use $\\phi$ as our feature mapping function. Given a feature mapping $\\phi$ we define its corresponding **Kernel** to be:\n",
        "\n",
        "\\begin{equation*}\n",
        "\\begin{aligned}\n",
        "& K(x, z) = \\phi(x)^T \\phi(z)\n",
        "\\end{aligned}\n",
        "\\end{equation*}\n",
        "\n",
        "Hence, in the dual optimization problem and the prediction rule of the Soft-Margin SVM, we can replace all terms in the form $x^T z$ with $K(x, z)$. This technique is called the Kernel trick.\n",
        "\n",
        "Now, given $\\phi$, we could easily compute $K(x,z)$ by finding $\\phi(x)$ and $\\phi(z)$ and taking their inner product. But what’s more interesting is that often, $K(x,z)$ may be very inexpensive to calculate, even though $\\phi(x)$ itself may be very expensive to calculate (perhaps because it is an extremely high-dimensional vector). Check Stanford's CS229 [notes](https://see.stanford.edu/materials/aimlcs229/cs229-notes3.pdf) on SVM and the Kernel trick for more details and examples."
      ]
    },
    {
      "cell_type": "markdown",
      "metadata": {
        "id": "AsW6iuw1U_jv"
      },
      "source": [
        "## Libraries"
      ]
    },
    {
      "cell_type": "markdown",
      "metadata": {
        "id": "ulrV4dEhVCQq"
      },
      "source": [
        "Here are some useful libraries for the implementation. You can add or remove any libraries as you wish. Note that you cannot use sklearn or similar libraries for implementation."
      ]
    },
    {
      "cell_type": "code",
      "execution_count": 1,
      "metadata": {
        "id": "RRB7ZlBqVTEV"
      },
      "outputs": [],
      "source": [
        "import numpy as np\n",
        "import matplotlib.pyplot as plt\n",
        "import pandas as pd\n",
        "from sklearn.model_selection import train_test_split\n",
        "from sklearn.preprocessing import StandardScaler\n",
        "from sklearn.metrics import classification_report\n",
        "import cvxpy as cp"
      ]
    },
    {
      "cell_type": "markdown",
      "metadata": {
        "id": "yJCgsLp4QJtl"
      },
      "source": [
        "## **Dataset Exploration**"
      ]
    },
    {
      "cell_type": "markdown",
      "metadata": {
        "id": "4he9swfSQ8E-"
      },
      "source": [
        "In this notebook, you'll be working with three datasets, specifically named \"DF1.csv\", \"DF2.csv\", and \"DF3.csv\". Each dataset entry is composed of a 2-dimensional feature vector and a label, which is either \"1\" or \"-1\". The primary objective of this notebook is to leverage SVM to develop a robust classifier for each dataset.\n",
        "\n",
        "You are given three kernels as follows:\n",
        "\n",
        "\n",
        "\n",
        "1.   Linear Kernel: $K(x, z) = x^T z$\n",
        "2.   Polynomial Kernel of degree 2: $K(x, z) = (1 + ∑_{i = 1}^{p} x_i z_i)^2$, where $p$ is the dimension of the feature space.\n",
        "3.   RBF Kernel: $K(x, z) = e^{-\\frac{||x-z||_2^2}{2σ^2}}$\n",
        "\n",
        "Before implementing, you must choose the correct kernel for each dataset. Note that each kernel must be used exactly for one dataset. Therefore, you cannot use one of the kernels twice. As a part of our grading scheme, what matters with respect to accuracy is the sum of the accuracies you reach for all three datasets, and the accuracy of each model does not have any separate score. Thus, it would help if you chose the most appropriate kernel for each dataset so that all datasets reach a reasonably good accuracy.\n",
        "\n",
        "\n",
        "\n"
      ]
    },
    {
      "cell_type": "markdown",
      "metadata": {
        "id": "e8aHoi0ZUY0o"
      },
      "source": [
        "Load all datasets and show the first 5 rows of each."
      ]
    },
    {
      "cell_type": "code",
      "execution_count": null,
      "metadata": {
        "id": "VCFSdyI6REpS"
      },
      "outputs": [],
      "source": [
        "df1 = pd.read_csv('DF1.csv')\n",
        "df2 = pd.read_csv('DF2.csv')\n",
        "df3 = pd.read_csv('DF3.csv')\n",
        "\n",
        "display"
      ]
    },
    {
      "cell_type": "markdown",
      "metadata": {
        "id": "tlH9BBtdUkQG"
      },
      "source": [
        "Use the following function to visualize the datapoints for all datasets."
      ]
    },
    {
      "cell_type": "code",
      "execution_count": null,
      "metadata": {
        "id": "ZJXxa8mPUjel"
      },
      "outputs": [],
      "source": [
        "def visualize_data(X, y):\n",
        "  col = []\n",
        "  for i in range(len(y)):\n",
        "    if y[i] == 1:\n",
        "      col.append('red')\n",
        "    else:\n",
        "      col.append('blue')\n",
        "  plt.scatter(X[ : , 0], X[ : , 1], color = col)\n",
        "  plt.show()\n",
        "\n",
        "## YOUR CODE HERE\n"
      ]
    },
    {
      "cell_type": "markdown",
      "metadata": {
        "id": "4Z4mn4ADVwqJ"
      },
      "source": [
        "**Theoretical Question:**\n",
        "\n",
        "Which kernel will you use for each dataset? Justify your answer.\n",
        "\n",
        "Note: your implementation must follow your choice here. Otherwise, you do not recieve any points for your implemetation."
      ]
    },
    {
      "cell_type": "markdown",
      "metadata": {
        "id": "11zXhFE0V9ws"
      },
      "source": [
        "<font color='green'>Write down your answers as markdown here.</font>"
      ]
    },
    {
      "cell_type": "markdown",
      "metadata": {
        "id": "5uApej98WtyV"
      },
      "source": [
        "## Dataset one (DF1.csv)"
      ]
    },
    {
      "cell_type": "markdown",
      "metadata": {
        "id": "zIhMQnmMWzM9"
      },
      "source": [
        "Split the dataset into train and test sets (20 percent for test). Use 42 as the random state and do not forget to scale the data."
      ]
    },
    {
      "cell_type": "code",
      "execution_count": null,
      "metadata": {
        "id": "kKEM5LrQXQh-"
      },
      "outputs": [],
      "source": [
        "## YOUR CODE HERE\n"
      ]
    },
    {
      "cell_type": "markdown",
      "metadata": {
        "id": "Dw1ITF7aXTmP"
      },
      "source": [
        "Use CVXPY to solve the dual problem with the appropriate kernel using the training set."
      ]
    },
    {
      "cell_type": "code",
      "execution_count": null,
      "metadata": {
        "id": "JJPvPhuyXoKf"
      },
      "outputs": [],
      "source": [
        "## YOUR CODE HERE\n"
      ]
    },
    {
      "cell_type": "markdown",
      "metadata": {
        "id": "2V4Od6gNXvvf"
      },
      "source": [
        "Predict the class of each entry in the test set using your learned model."
      ]
    },
    {
      "cell_type": "code",
      "execution_count": null,
      "metadata": {
        "id": "H-9IAxakX29p"
      },
      "outputs": [],
      "source": [
        "## YOUR CODE HERE\n"
      ]
    },
    {
      "cell_type": "markdown",
      "metadata": {
        "id": "VqcU4jhBX5Tv"
      },
      "source": [
        "Use classification_report function (from sklearn) to get the accuracy of your model."
      ]
    },
    {
      "cell_type": "code",
      "execution_count": null,
      "metadata": {
        "id": "2XrEJQ2QYCcR"
      },
      "outputs": [],
      "source": [
        "## YOUR CODE HERE"
      ]
    },
    {
      "cell_type": "markdown",
      "metadata": {
        "id": "QN4wBbNEYXvS"
      },
      "source": [
        "## Dataset two (DF2.csv)"
      ]
    },
    {
      "cell_type": "markdown",
      "metadata": {
        "id": "DFxagUuuYXvS"
      },
      "source": [
        "Split the dataset into train and test sets (20 percent for test). Use 42 as the random state and do not forget to scale the data."
      ]
    },
    {
      "cell_type": "code",
      "execution_count": null,
      "metadata": {
        "id": "onEe_NAeYXvS"
      },
      "outputs": [],
      "source": [
        "## YOUR CODE HERE\n"
      ]
    },
    {
      "cell_type": "markdown",
      "metadata": {
        "id": "yeFzQ7PEYXvT"
      },
      "source": [
        "Use CVXPY to solve the dual problem with the appropriate kernel using the training set."
      ]
    },
    {
      "cell_type": "code",
      "execution_count": null,
      "metadata": {
        "id": "2uS40Nv2YXvU"
      },
      "outputs": [],
      "source": [
        "## YOUR CODE HERE\n"
      ]
    },
    {
      "cell_type": "markdown",
      "metadata": {
        "id": "9tgg8gvyYXvU"
      },
      "source": [
        "Predict the class of each entry in the test set using your learned model."
      ]
    },
    {
      "cell_type": "code",
      "execution_count": null,
      "metadata": {
        "id": "7QVwa-jlYXvU"
      },
      "outputs": [],
      "source": [
        "## YOUR CODE HERE\n"
      ]
    },
    {
      "cell_type": "markdown",
      "metadata": {
        "id": "6FEgkFDvYXvV"
      },
      "source": [
        "Use classification_report function (from sklearn) to get the accuracy of your model."
      ]
    },
    {
      "cell_type": "code",
      "execution_count": null,
      "metadata": {
        "id": "B4XtwtAdYXvV"
      },
      "outputs": [],
      "source": [
        "## YOUR CODE HERE\n"
      ]
    },
    {
      "cell_type": "markdown",
      "metadata": {
        "id": "g8G-gVTXYZ2R"
      },
      "source": [
        "## Dataset three (DF3.csv)"
      ]
    },
    {
      "cell_type": "markdown",
      "metadata": {
        "id": "PoXVLKNFYZ2R"
      },
      "source": [
        "Split the dataset into train and test sets (20 percent for test). Use 42 as the random state and do not forget to scale the data."
      ]
    },
    {
      "cell_type": "code",
      "execution_count": null,
      "metadata": {
        "id": "BDbYV9dIYZ2S"
      },
      "outputs": [],
      "source": [
        "## YOUR CODE HERE\n"
      ]
    },
    {
      "cell_type": "markdown",
      "metadata": {
        "id": "nUGJAmMhYZ2S"
      },
      "source": [
        "Use CVXPY to solve the dual problem with the appropriate kernel using the training set."
      ]
    },
    {
      "cell_type": "code",
      "execution_count": null,
      "metadata": {
        "id": "wFQiz6inYZ2S"
      },
      "outputs": [],
      "source": [
        "## YOUR CODE HERE\n"
      ]
    },
    {
      "cell_type": "markdown",
      "metadata": {
        "id": "ICETgzlyYZ2T"
      },
      "source": [
        "Predict the class of each entry in the test set using your learned model."
      ]
    },
    {
      "cell_type": "code",
      "execution_count": null,
      "metadata": {
        "id": "0juJrHMEYZ2T"
      },
      "outputs": [],
      "source": [
        "## YOUR CODE HERE\n"
      ]
    },
    {
      "cell_type": "markdown",
      "metadata": {
        "id": "6ZGqGA4IYZ2T"
      },
      "source": [
        "Use classification_report function (from sklearn) to get the accuracy of your model."
      ]
    },
    {
      "cell_type": "code",
      "execution_count": null,
      "metadata": {
        "id": "oCAiDwuNYZ2U"
      },
      "outputs": [],
      "source": [
        "## YOUR CODE HERE\n"
      ]
    }
  ],
  "metadata": {
    "colab": {
      "provenance": []
    },
    "kernelspec": {
      "display_name": "Python 3",
      "name": "python3"
    },
    "language_info": {
      "codemirror_mode": {
        "name": "ipython",
        "version": 3
      },
      "file_extension": ".py",
      "mimetype": "text/x-python",
      "name": "python",
      "nbconvert_exporter": "python",
      "pygments_lexer": "ipython3",
      "version": "3.9.6"
    }
  },
  "nbformat": 4,
  "nbformat_minor": 0
}
